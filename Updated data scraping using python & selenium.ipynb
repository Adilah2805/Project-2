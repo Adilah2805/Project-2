{
 "cells": [
  {
   "cell_type": "markdown",
   "metadata": {},
   "source": [
    "# Important file"
   ]
  },
  {
   "cell_type": "code",
   "execution_count": 1,
   "metadata": {},
   "outputs": [],
   "source": [
    "import selenium\n",
    "from selenium import webdriver as wb\n",
    "import pandas as pd\n",
    "import time\n",
    "from bs4 import BeautifulSoup"
   ]
  },
  {
   "cell_type": "code",
   "execution_count": 2,
   "metadata": {},
   "outputs": [],
   "source": [
    "from selenium.webdriver.common.by import By"
   ]
  },
  {
   "cell_type": "code",
   "execution_count": 82,
   "metadata": {},
   "outputs": [
    {
     "name": "stderr",
     "output_type": "stream",
     "text": [
      "C:\\Users\\Userr\\AppData\\Local\\Temp\\ipykernel_4948\\2681968100.py:2: DeprecationWarning: executable_path has been deprecated, please pass in a Service object\n",
      "  driver=wb.Chrome('C:/Users/ASUS/Downloads/New folder (3)/chromedriver_win32/chromedriver.exe')\n"
     ]
    }
   ],
   "source": [
    "driver=wb.Chrome('C:/Users/ASUS/Downloads/New folder (3)/chromedriver_win32/chromedriver.exe')  \n",
    "#find the path where chromedriver is located\n"
   ]
  },
  {
   "cell_type": "markdown",
   "metadata": {},
   "source": [
    "# Scrape link from 1 page"
   ]
  },
  {
   "cell_type": "code",
   "execution_count": 83,
   "metadata": {},
   "outputs": [],
   "source": [
    "link_lists=[] # create empty list. Function to apend new data\n",
    "    \n",
    "link='https://shopee.com.my/search?keyword=moisturizer' # paste link that data will be scaped\n",
    "driver.get(link) #ask the driver to search for the link\n",
    "driver.maximize_window() # maximize the window\n",
    "time.sleep(10) # allow the page load until below. Function to avoid missing data capture\n",
    "lnks=driver.find_elements(by=By.TAG_NAME, value=\"a\") #find the link using tag name\n",
    "for lnk in lnks: #use loop to get all link of the product\n",
    "        \n",
    "    a=lnk.get_attribute(\"href\") #capture all the link using attribute \"href\"\n",
    "    link_lists.append(a) #append thecptur attribute into the list"
   ]
  },
  {
   "cell_type": "code",
   "execution_count": 84,
   "metadata": {},
   "outputs": [
    {
     "data": {
      "text/plain": [
       "['https://seller.shopee.com.my/',\n",
       " 'https://shopee.com.my/web/',\n",
       " 'https://facebook.com/ShopeeMY',\n",
       " 'https://instagram.com/Shopee_MY',\n",
       " 'https://shopee.com.my/user/notifications/order',\n",
       " 'https://help.shopee.com.my/my/s',\n",
       " 'https://shopee.com.my/buyer/signup?keyword=moisturizer&next=https%3A%2F%2Fshopee.com.my%2Fsearch%3Fkeyword%3Dmoisturizer',\n",
       " 'https://shopee.com.my/buyer/login?keyword=moisturizer&next=https%3A%2F%2Fshopee.com.my%2Fsearch%3Fkeyword%3Dmoisturizer',\n",
       " 'https://shopee.com.my/',\n",
       " 'https://shopee.com.my/search?keyword=lato%20lato',\n",
       " 'https://shopee.com.my/search?keyword=dress',\n",
       " 'https://shopee.com.my/search?keyword=baju%20raya%202023',\n",
       " 'https://shopee.com.my/search?keyword=kasut%20perempuan',\n",
       " 'https://shopee.com.my/search?keyword=baju%20kurung',\n",
       " 'https://shopee.com.my/search?keyword=blouse',\n",
       " 'https://shopee.com.my/search?keyword=powerbank',\n",
       " 'https://shopee.com.my/search?keyword=smart%20watch',\n",
       " 'https://shopee.com.my/buyer/login?keyword=moisturizer&next=https%3A%2F%2Fshopee.com.my%2Fsearch%3Fkeyword%3Dmoisturizer',\n",
       " 'https://shopee.com.my/supermarket',\n",
       " 'https://shopee.com.my/SKINTIFIC-5X-Ceramide-Skin-Barrier-Repair-Moisturize-Gel-Moisturizer-Cream-Face-Moisturiser-Day-Cream-Night-Cream-(30g)-i.498052041.11241991555?sp_atk=e84cd011-2a98-4c91-b9c3-b8ea0d2610e7&xptdk=e84cd011-2a98-4c91-b9c3-b8ea0d2610e7',\n",
       " 'https://shopee.com.my/The-Originote-Day-Night-Hyalucera-Moisturizer-Gel-Cream-i.849265582.19047601766?sp_atk=af95c03c-fea5-4ef0-a70d-7cb78eb55e84&xptdk=af95c03c-fea5-4ef0-a70d-7cb78eb55e84',\n",
       " 'https://shopee.com.my/Cetaphil-Moisturizing-Cream-for-Dry-Sensitive-Skin-550g-i.376892598.18119897992?sp_atk=e6a19f27-70e0-4c17-94c5-9b65e3029e18&xptdk=e6a19f27-70e0-4c17-94c5-9b65e3029e18',\n",
       " 'https://shopee.com.my/YOU-The-AcnePlus-Series-Skin-Defense-Moisturizer-for-Acne-Care-(25g)-i.410162346.15054445999?sp_atk=cf703e56-7a7c-4a97-a3b0-42c21b8c4d71&xptdk=cf703e56-7a7c-4a97-a3b0-42c21b8c4d71',\n",
       " 'https://shopee.com.my/SOMEBYMI-AHA-BHA-PHA-30-Days-Miracle-Acne-Clear-Body-Cleanser-400g-i.98557554.7420085995?sp_atk=17f62379-ea9c-4131-b278-41825de4db43&xptdk=17f62379-ea9c-4131-b278-41825de4db43',\n",
       " 'https://shopee.com.my/innisfree-jeju-cherry-blossom-jelly-cream-20ml-tone-up-cream-20ml-i.146082997.12643117450?sp_atk=bfe0f704-a4ba-4712-b6a6-dba556e218b4&xptdk=bfe0f704-a4ba-4712-b6a6-dba556e218b4',\n",
       " 'https://shopee.com.my/Atomy-Aqua-Cream-(80ml)-from-Korea-LOWEST-PRICE-GUARANTEE--i.213522013.5833243750?sp_atk=503e80d8-5826-46f5-a0a7-3590cf65e956&xptdk=503e80d8-5826-46f5-a0a7-3590cf65e956',\n",
       " 'https://shopee.com.my/Neutrogena-Combination-Skin-Moist-118ml-i.52784309.7554929145?sp_atk=a9514551-bc9f-4912-ac2a-c4c816f83de8&xptdk=a9514551-bc9f-4912-ac2a-c4c816f83de8',\n",
       " 'https://shopee.com.my/-NEW-SIZE-RELEASE-Always-Be-Pure-Forest-Therapy-Ultra-Calming-Cream-30ml-80ml-Moisturizer-Soothe-i.207484062.7210935570?sp_atk=14f4851c-5dfe-4cee-9e06-07a94b023d3e&xptdk=14f4851c-5dfe-4cee-9e06-07a94b023d3e',\n",
       " 'https://shopee.com.my/Cetaphil-Optimal-Hydration-Healthy-Glow-Day-Cream-With-Hydrosensitiv-Complex-Hyaluronic-Acid-For-Dry-Dehydrated-i.112778093.16507058030?sp_atk=b5fe762b-b6b7-48cc-8260-eee920409e52&xptdk=b5fe762b-b6b7-48cc-8260-eee920409e52',\n",
       " 'https://shopee.com.my/Noir-Whitening-Gel-Hydrant-MOISTURIZER-i.749919968.13288630313?sp_atk=f48370e8-fbc1-4ffb-a94d-d38cc737e5a2&xptdk=f48370e8-fbc1-4ffb-a94d-d38cc737e5a2',\n",
       " 'https://shopee.com.my/%F0%9F%93%A3%F0%9F%93%A3Frezyderm-Moisturizing-Plus-Hydrating-Reparing-Facial-Cream-50ML-(EXPIRE-APRL-2024)-i.20423545.5510357114?sp_atk=66043fa5-49e2-40ec-9ac9-addb83ee9a4f&xptdk=66043fa5-49e2-40ec-9ac9-addb83ee9a4f',\n",
       " 'https://shopee.com.my/Endocare-Gel-Cream-Biorepair-30ML-i.20423545.225611267?sp_atk=af968a0c-040c-4ae2-ae06-1082e3b9f71d&xptdk=af968a0c-040c-4ae2-ae06-1082e3b9f71d',\n",
       " 'https://shopee.com.my/YANKO-ADVANCE-MOISTURIZING-CREAM-i.123889510.21605456788?sp_atk=6d237ccf-20a2-44f8-a948-b5c4bb49f83a&xptdk=6d237ccf-20a2-44f8-a948-b5c4bb49f83a',\n",
       " 'https://shopee.com.my/Fresh-Rose-Deep-Hydration-Face-Cream-50ml-i.27996518.626157847?sp_atk=17fdd054-b4da-4b99-9fac-72443f4bf9ed&xptdk=17fdd054-b4da-4b99-9fac-72443f4bf9ed',\n",
       " 'https://help.shopee.com.my/portal',\n",
       " 'https://help.shopee.com.my/portal/article/78540-[New-to-Shopee]-How-do-I-buy-a-product-on-Shopee%3F',\n",
       " 'https://seller.shopee.com.my/edu/article/351',\n",
       " 'https://help.shopee.com.my/portal/article/78687-[ShopeePay]-What-is-ShopeePay?',\n",
       " 'https://help.shopee.com.my/portal/article/78476-[Shopee-Coins]-What-is-Shopee-Coins?',\n",
       " 'https://shopee.com.my/m/shopee-guarantee',\n",
       " 'https://seller.shopee.com.my/edu/category?sub_cat_id=345',\n",
       " 'https://help.shopee.com.my/portal/article/78634-[FAQ]-About-Returns%2FRefunds-for-Buyers',\n",
       " 'https://help.shopee.com.my/portal/article/78961-[Customer-service]-How-do-I-contact-Shopee-Customer-Service?',\n",
       " 'https://careers.shopee.com.my/about',\n",
       " 'https://careers.shopee.com.my/jobs?country_id=6',\n",
       " 'https://help.shopee.com.my/portal/article/77527',\n",
       " 'https://help.shopee.com.my/portal/article/77530',\n",
       " 'https://shopee.com.my/mall/',\n",
       " 'https://seller.shopee.com.my/',\n",
       " 'https://shopee.com.my/shocking_sale/',\n",
       " 'mailto:pr.my%40shopee.com',\n",
       " 'https://affiliate.shopee.com.my/',\n",
       " 'https://shopee.com.my/blog/',\n",
       " None,\n",
       " None,\n",
       " None,\n",
       " None,\n",
       " None,\n",
       " None,\n",
       " None,\n",
       " None,\n",
       " None,\n",
       " None,\n",
       " None,\n",
       " None,\n",
       " None,\n",
       " None,\n",
       " None,\n",
       " None,\n",
       " None,\n",
       " None,\n",
       " None,\n",
       " None,\n",
       " None,\n",
       " None,\n",
       " 'https://www.facebook.com/ShopeeMY',\n",
       " 'https://www.instagram.com/Shopee_MY/',\n",
       " 'https://shopee.com.my/shopee_mamak',\n",
       " 'https://www.linkedin.com/company/shopee',\n",
       " 'https://shopee.com.my/web',\n",
       " 'https://shopee.com.my/web',\n",
       " 'https://shopee.com.my/web',\n",
       " 'https://shopee.com.my/web',\n",
       " 'https://shopee.sg/',\n",
       " 'https://shopee.co.id/',\n",
       " 'https://shopee.tw/',\n",
       " 'https://shopee.co.th/',\n",
       " 'https://shopee.com.my/',\n",
       " 'https://shopee.vn/',\n",
       " 'https://shopee.ph/',\n",
       " 'https://shopee.com.br/',\n",
       " 'https://shopee.com.mx/',\n",
       " 'https://shopee.com.co/',\n",
       " 'https://shopee.cl/',\n",
       " 'https://shopee.pl/']"
      ]
     },
     "execution_count": 84,
     "metadata": {},
     "output_type": "execute_result"
    }
   ],
   "source": [
    "link_lists"
   ]
  },
  {
   "cell_type": "markdown",
   "metadata": {},
   "source": [
    "## Data cleaning - Remove unnecessary link"
   ]
  },
  {
   "cell_type": "code",
   "execution_count": 85,
   "metadata": {},
   "outputs": [
    {
     "data": {
      "text/plain": [
       "18"
      ]
     },
     "execution_count": 85,
     "metadata": {},
     "output_type": "execute_result"
    }
   ],
   "source": [
    "link_lists.index('https://shopee.com.my/supermarket') # remove the last link before the link of the product"
   ]
  },
  {
   "cell_type": "code",
   "execution_count": 86,
   "metadata": {},
   "outputs": [],
   "source": [
    "del link_lists[0:19] #delete the first link until last link before link of the product"
   ]
  },
  {
   "cell_type": "code",
   "execution_count": 87,
   "metadata": {},
   "outputs": [
    {
     "data": {
      "text/plain": [
       "['https://shopee.com.my/SKINTIFIC-5X-Ceramide-Skin-Barrier-Repair-Moisturize-Gel-Moisturizer-Cream-Face-Moisturiser-Day-Cream-Night-Cream-(30g)-i.498052041.11241991555?sp_atk=e84cd011-2a98-4c91-b9c3-b8ea0d2610e7&xptdk=e84cd011-2a98-4c91-b9c3-b8ea0d2610e7',\n",
       " 'https://shopee.com.my/The-Originote-Day-Night-Hyalucera-Moisturizer-Gel-Cream-i.849265582.19047601766?sp_atk=af95c03c-fea5-4ef0-a70d-7cb78eb55e84&xptdk=af95c03c-fea5-4ef0-a70d-7cb78eb55e84',\n",
       " 'https://shopee.com.my/Cetaphil-Moisturizing-Cream-for-Dry-Sensitive-Skin-550g-i.376892598.18119897992?sp_atk=e6a19f27-70e0-4c17-94c5-9b65e3029e18&xptdk=e6a19f27-70e0-4c17-94c5-9b65e3029e18',\n",
       " 'https://shopee.com.my/YOU-The-AcnePlus-Series-Skin-Defense-Moisturizer-for-Acne-Care-(25g)-i.410162346.15054445999?sp_atk=cf703e56-7a7c-4a97-a3b0-42c21b8c4d71&xptdk=cf703e56-7a7c-4a97-a3b0-42c21b8c4d71',\n",
       " 'https://shopee.com.my/SOMEBYMI-AHA-BHA-PHA-30-Days-Miracle-Acne-Clear-Body-Cleanser-400g-i.98557554.7420085995?sp_atk=17f62379-ea9c-4131-b278-41825de4db43&xptdk=17f62379-ea9c-4131-b278-41825de4db43',\n",
       " 'https://shopee.com.my/innisfree-jeju-cherry-blossom-jelly-cream-20ml-tone-up-cream-20ml-i.146082997.12643117450?sp_atk=bfe0f704-a4ba-4712-b6a6-dba556e218b4&xptdk=bfe0f704-a4ba-4712-b6a6-dba556e218b4',\n",
       " 'https://shopee.com.my/Atomy-Aqua-Cream-(80ml)-from-Korea-LOWEST-PRICE-GUARANTEE--i.213522013.5833243750?sp_atk=503e80d8-5826-46f5-a0a7-3590cf65e956&xptdk=503e80d8-5826-46f5-a0a7-3590cf65e956',\n",
       " 'https://shopee.com.my/Neutrogena-Combination-Skin-Moist-118ml-i.52784309.7554929145?sp_atk=a9514551-bc9f-4912-ac2a-c4c816f83de8&xptdk=a9514551-bc9f-4912-ac2a-c4c816f83de8',\n",
       " 'https://shopee.com.my/-NEW-SIZE-RELEASE-Always-Be-Pure-Forest-Therapy-Ultra-Calming-Cream-30ml-80ml-Moisturizer-Soothe-i.207484062.7210935570?sp_atk=14f4851c-5dfe-4cee-9e06-07a94b023d3e&xptdk=14f4851c-5dfe-4cee-9e06-07a94b023d3e',\n",
       " 'https://shopee.com.my/Cetaphil-Optimal-Hydration-Healthy-Glow-Day-Cream-With-Hydrosensitiv-Complex-Hyaluronic-Acid-For-Dry-Dehydrated-i.112778093.16507058030?sp_atk=b5fe762b-b6b7-48cc-8260-eee920409e52&xptdk=b5fe762b-b6b7-48cc-8260-eee920409e52',\n",
       " 'https://shopee.com.my/Noir-Whitening-Gel-Hydrant-MOISTURIZER-i.749919968.13288630313?sp_atk=f48370e8-fbc1-4ffb-a94d-d38cc737e5a2&xptdk=f48370e8-fbc1-4ffb-a94d-d38cc737e5a2',\n",
       " 'https://shopee.com.my/%F0%9F%93%A3%F0%9F%93%A3Frezyderm-Moisturizing-Plus-Hydrating-Reparing-Facial-Cream-50ML-(EXPIRE-APRL-2024)-i.20423545.5510357114?sp_atk=66043fa5-49e2-40ec-9ac9-addb83ee9a4f&xptdk=66043fa5-49e2-40ec-9ac9-addb83ee9a4f',\n",
       " 'https://shopee.com.my/Endocare-Gel-Cream-Biorepair-30ML-i.20423545.225611267?sp_atk=af968a0c-040c-4ae2-ae06-1082e3b9f71d&xptdk=af968a0c-040c-4ae2-ae06-1082e3b9f71d',\n",
       " 'https://shopee.com.my/YANKO-ADVANCE-MOISTURIZING-CREAM-i.123889510.21605456788?sp_atk=6d237ccf-20a2-44f8-a948-b5c4bb49f83a&xptdk=6d237ccf-20a2-44f8-a948-b5c4bb49f83a',\n",
       " 'https://shopee.com.my/Fresh-Rose-Deep-Hydration-Face-Cream-50ml-i.27996518.626157847?sp_atk=17fdd054-b4da-4b99-9fac-72443f4bf9ed&xptdk=17fdd054-b4da-4b99-9fac-72443f4bf9ed',\n",
       " 'https://help.shopee.com.my/portal',\n",
       " 'https://help.shopee.com.my/portal/article/78540-[New-to-Shopee]-How-do-I-buy-a-product-on-Shopee%3F',\n",
       " 'https://seller.shopee.com.my/edu/article/351',\n",
       " 'https://help.shopee.com.my/portal/article/78687-[ShopeePay]-What-is-ShopeePay?',\n",
       " 'https://help.shopee.com.my/portal/article/78476-[Shopee-Coins]-What-is-Shopee-Coins?',\n",
       " 'https://shopee.com.my/m/shopee-guarantee',\n",
       " 'https://seller.shopee.com.my/edu/category?sub_cat_id=345',\n",
       " 'https://help.shopee.com.my/portal/article/78634-[FAQ]-About-Returns%2FRefunds-for-Buyers',\n",
       " 'https://help.shopee.com.my/portal/article/78961-[Customer-service]-How-do-I-contact-Shopee-Customer-Service?',\n",
       " 'https://careers.shopee.com.my/about',\n",
       " 'https://careers.shopee.com.my/jobs?country_id=6',\n",
       " 'https://help.shopee.com.my/portal/article/77527',\n",
       " 'https://help.shopee.com.my/portal/article/77530',\n",
       " 'https://shopee.com.my/mall/',\n",
       " 'https://seller.shopee.com.my/',\n",
       " 'https://shopee.com.my/shocking_sale/',\n",
       " 'mailto:pr.my%40shopee.com',\n",
       " 'https://affiliate.shopee.com.my/',\n",
       " 'https://shopee.com.my/blog/',\n",
       " None,\n",
       " None,\n",
       " None,\n",
       " None,\n",
       " None,\n",
       " None,\n",
       " None,\n",
       " None,\n",
       " None,\n",
       " None,\n",
       " None,\n",
       " None,\n",
       " None,\n",
       " None,\n",
       " None,\n",
       " None,\n",
       " None,\n",
       " None,\n",
       " None,\n",
       " None,\n",
       " None,\n",
       " None,\n",
       " 'https://www.facebook.com/ShopeeMY',\n",
       " 'https://www.instagram.com/Shopee_MY/',\n",
       " 'https://shopee.com.my/shopee_mamak',\n",
       " 'https://www.linkedin.com/company/shopee',\n",
       " 'https://shopee.com.my/web',\n",
       " 'https://shopee.com.my/web',\n",
       " 'https://shopee.com.my/web',\n",
       " 'https://shopee.com.my/web',\n",
       " 'https://shopee.sg/',\n",
       " 'https://shopee.co.id/',\n",
       " 'https://shopee.tw/',\n",
       " 'https://shopee.co.th/',\n",
       " 'https://shopee.com.my/',\n",
       " 'https://shopee.vn/',\n",
       " 'https://shopee.ph/',\n",
       " 'https://shopee.com.br/',\n",
       " 'https://shopee.com.mx/',\n",
       " 'https://shopee.com.co/',\n",
       " 'https://shopee.cl/',\n",
       " 'https://shopee.pl/']"
      ]
     },
     "execution_count": 87,
     "metadata": {},
     "output_type": "execute_result"
    }
   ],
   "source": [
    "link_lists"
   ]
  },
  {
   "cell_type": "code",
   "execution_count": 88,
   "metadata": {},
   "outputs": [],
   "source": [
    "#still have unwanted link below? find the index of the link\n",
    "index=link_lists.index(\"https://shopee.com.my/Neutrogena-Combination-Skin-Moist-118ml-i.52784309.7554929145?sp_atk=a9514551-bc9f-4912-ac2a-c4c816f83de8&xptdk=a9514551-bc9f-4912-ac2a-c4c816f83de8\")"
   ]
  },
  {
   "cell_type": "code",
   "execution_count": 89,
   "metadata": {},
   "outputs": [
    {
     "data": {
      "text/plain": [
       "7"
      ]
     },
     "execution_count": 89,
     "metadata": {},
     "output_type": "execute_result"
    }
   ],
   "source": [
    "index"
   ]
  },
  {
   "cell_type": "code",
   "execution_count": 90,
   "metadata": {},
   "outputs": [],
   "source": [
    "c=link_lists[:index+1] # remove the link after the product link"
   ]
  },
  {
   "cell_type": "code",
   "execution_count": 97,
   "metadata": {},
   "outputs": [
    {
     "data": {
      "text/plain": [
       "['https://shopee.com.my/SKINTIFIC-5X-Ceramide-Skin-Barrier-Repair-Moisturize-Gel-Moisturizer-Cream-Face-Moisturiser-Day-Cream-Night-Cream-(30g)-i.498052041.11241991555?sp_atk=e84cd011-2a98-4c91-b9c3-b8ea0d2610e7&xptdk=e84cd011-2a98-4c91-b9c3-b8ea0d2610e7',\n",
       " 'https://shopee.com.my/The-Originote-Day-Night-Hyalucera-Moisturizer-Gel-Cream-i.849265582.19047601766?sp_atk=af95c03c-fea5-4ef0-a70d-7cb78eb55e84&xptdk=af95c03c-fea5-4ef0-a70d-7cb78eb55e84',\n",
       " 'https://shopee.com.my/Cetaphil-Moisturizing-Cream-for-Dry-Sensitive-Skin-550g-i.376892598.18119897992?sp_atk=e6a19f27-70e0-4c17-94c5-9b65e3029e18&xptdk=e6a19f27-70e0-4c17-94c5-9b65e3029e18',\n",
       " 'https://shopee.com.my/YOU-The-AcnePlus-Series-Skin-Defense-Moisturizer-for-Acne-Care-(25g)-i.410162346.15054445999?sp_atk=cf703e56-7a7c-4a97-a3b0-42c21b8c4d71&xptdk=cf703e56-7a7c-4a97-a3b0-42c21b8c4d71',\n",
       " 'https://shopee.com.my/SOMEBYMI-AHA-BHA-PHA-30-Days-Miracle-Acne-Clear-Body-Cleanser-400g-i.98557554.7420085995?sp_atk=17f62379-ea9c-4131-b278-41825de4db43&xptdk=17f62379-ea9c-4131-b278-41825de4db43',\n",
       " 'https://shopee.com.my/innisfree-jeju-cherry-blossom-jelly-cream-20ml-tone-up-cream-20ml-i.146082997.12643117450?sp_atk=bfe0f704-a4ba-4712-b6a6-dba556e218b4&xptdk=bfe0f704-a4ba-4712-b6a6-dba556e218b4',\n",
       " 'https://shopee.com.my/Atomy-Aqua-Cream-(80ml)-from-Korea-LOWEST-PRICE-GUARANTEE--i.213522013.5833243750?sp_atk=503e80d8-5826-46f5-a0a7-3590cf65e956&xptdk=503e80d8-5826-46f5-a0a7-3590cf65e956',\n",
       " 'https://shopee.com.my/Neutrogena-Combination-Skin-Moist-118ml-i.52784309.7554929145?sp_atk=a9514551-bc9f-4912-ac2a-c4c816f83de8&xptdk=a9514551-bc9f-4912-ac2a-c4c816f83de8']"
      ]
     },
     "execution_count": 97,
     "metadata": {},
     "output_type": "execute_result"
    }
   ],
   "source": [
    "c"
   ]
  },
  {
   "cell_type": "markdown",
   "metadata": {},
   "source": [
    "# Extract data from the link using XPATH \n"
   ]
  },
  {
   "cell_type": "code",
   "execution_count": 94,
   "metadata": {},
   "outputs": [],
   "source": [
    "#Create empty list\n",
    "titles_lis=[]\n",
    "ingredient_lists=[]\n",
    "rating_list=[]\n",
    "\n",
    "#Create a loop to cpture data from all link\n",
    "for website in c:\n",
    "    driver.get(website) # go to the product link\n",
    "    time.sleep(10)  #allow page to refresh  until below page\n",
    "    \n",
    "    #find first attribute which is rating using XPATH\n",
    "    q=driver.find_elements(by=By.XPATH , value=\"/html/body/div[1]/div/div[2]/div[1]/div/div/div/div[2]/div[3]/div/div[2]/div[1]/div[1]\")\n",
    "    rating_list.append((q[0].text))\n",
    "    \n",
    "    #find second attribute which is title using XPATH\n",
    "    t=driver.find_elements(by=By.XPATH , value=\"//*[@id='main']/div/div[2]/div[1]/div/div[1]/div/div[2]/div[3]/div/div[1]/span\")\n",
    "    titles_lis.append((t[0].text))#chgange to text\n",
    "     \n",
    "    #some product have different xpath & no xpath (meaning not have this attribute). So initialize the xpath first    \n",
    "    i=driver.find_elements(by=By.XPATH , value=\"/html/body/div[1]/div/div[2]/div[1]/div/div/div/div[3]/div[2]/div[1]/div[1]/div[1]/div[2]/div[2]/a\")\n",
    "    a=driver.find_elements(by=By.XPATH , value=\"/html/body/div[1]/div/div[2]/div[1]/div/div/div/div[3]/div[3]/div[1]/div[1]/div[1]/div[2]/div[2]/a\")\n",
    "    w=driver.find_elements(by=By.XPATH , value=\"/html/body/div[1]/div/div[2]/div[1]/div/div/div/div[4]/div[2]/div[1]/div[1]/div[1]/div[2]/div[2]/a\")\n",
    "    b=\" \"\n",
    "    \n",
    "    #create condition to append the data\n",
    "    if i:\n",
    "        ingredient_lists.append((i[0].text))\n",
    "    elif a:\n",
    "        ingredient_lists.append((a[0].text)) \n",
    "    elif b:\n",
    "        ingredient_lists.append((b[0]))\n",
    "    elif w: #for data has no this attribute\n",
    "        ingredient_lists.append((w[0].text))\n",
    "    else:\n",
    "        break;"
   ]
  },
  {
   "cell_type": "code",
   "execution_count": 95,
   "metadata": {},
   "outputs": [
    {
     "data": {
      "text/plain": [
       "['Skintific',\n",
       " ' ',\n",
       " 'Cetaphil',\n",
       " 'Y.O.U Makeups',\n",
       " 'Some By Mi',\n",
       " 'Innisfree',\n",
       " ' ',\n",
       " ' ']"
      ]
     },
     "execution_count": 95,
     "metadata": {},
     "output_type": "execute_result"
    }
   ],
   "source": [
    "ingredient_lists"
   ]
  },
  {
   "cell_type": "code",
   "execution_count": 96,
   "metadata": {},
   "outputs": [
    {
     "data": {
      "text/plain": [
       "['SKINTIFIC 5X Ceramide Skin Barrier Repair Moisturize Gel Moisturizer Cream Face Moisturiser Day Cream Night Cream (30g)',\n",
       " 'The Originote Day & Night Hyalucera Moisturizer Gel Cream',\n",
       " 'Cetaphil Moisturizing Cream for Dry/Sensitive Skin 550g',\n",
       " 'YOU The AcnePlus Series Skin Defense Moisturizer for Acne Care (25g)',\n",
       " 'SOMEBYMI AHA-BHA-PHA 30 Days Miracle Acne Clear Body Cleanser 400g',\n",
       " 'innisfree jeju cherry blossom jelly cream 20ml / tone-up cream 20ml',\n",
       " 'Atomy Aqua Cream (80ml) from Korea [LOWEST PRICE GUARANTEE]',\n",
       " 'Neutrogena Combination Skin Moist 118ml']"
      ]
     },
     "execution_count": 96,
     "metadata": {},
     "output_type": "execute_result"
    }
   ],
   "source": [
    "titles_lis"
   ]
  },
  {
   "cell_type": "code",
   "execution_count": 125,
   "metadata": {},
   "outputs": [
    {
     "data": {
      "text/html": [
       "<div>\n",
       "<style scoped>\n",
       "    .dataframe tbody tr th:only-of-type {\n",
       "        vertical-align: middle;\n",
       "    }\n",
       "\n",
       "    .dataframe tbody tr th {\n",
       "        vertical-align: top;\n",
       "    }\n",
       "\n",
       "    .dataframe thead th {\n",
       "        text-align: right;\n",
       "    }\n",
       "</style>\n",
       "<table border=\"1\" class=\"dataframe\">\n",
       "  <thead>\n",
       "    <tr style=\"text-align: right;\">\n",
       "      <th></th>\n",
       "      <th>ItemName</th>\n",
       "      <th>Brand</th>\n",
       "      <th>No. Sold</th>\n",
       "      <th>Rating</th>\n",
       "    </tr>\n",
       "  </thead>\n",
       "  <tbody>\n",
       "    <tr>\n",
       "      <th>0</th>\n",
       "      <td>SKINTIFIC 5X Ceramide Skin Barrier Repair Mois...</td>\n",
       "      <td>Skintific</td>\n",
       "      <td>68.3k</td>\n",
       "      <td>5.0</td>\n",
       "    </tr>\n",
       "    <tr>\n",
       "      <th>1</th>\n",
       "      <td>The Originote Day &amp; Night Hyalucera Moisturize...</td>\n",
       "      <td></td>\n",
       "      <td>2.8k</td>\n",
       "      <td>4.9</td>\n",
       "    </tr>\n",
       "    <tr>\n",
       "      <th>2</th>\n",
       "      <td>Cetaphil Moisturizing Cream for Dry/Sensitive ...</td>\n",
       "      <td>Cetaphil</td>\n",
       "      <td>440</td>\n",
       "      <td>4.8</td>\n",
       "    </tr>\n",
       "    <tr>\n",
       "      <th>3</th>\n",
       "      <td>YOU The AcnePlus Series Skin Defense Moisturiz...</td>\n",
       "      <td>Y.O.U Makeups</td>\n",
       "      <td>2.8k</td>\n",
       "      <td>4.9</td>\n",
       "    </tr>\n",
       "    <tr>\n",
       "      <th>4</th>\n",
       "      <td>SOMEBYMI AHA-BHA-PHA 30 Days Miracle Acne Clea...</td>\n",
       "      <td>Some By Mi</td>\n",
       "      <td>34.7k</td>\n",
       "      <td>5.0</td>\n",
       "    </tr>\n",
       "    <tr>\n",
       "      <th>5</th>\n",
       "      <td>innisfree jeju cherry blossom jelly cream 20ml...</td>\n",
       "      <td>Innisfree</td>\n",
       "      <td>48</td>\n",
       "      <td>4.9</td>\n",
       "    </tr>\n",
       "    <tr>\n",
       "      <th>6</th>\n",
       "      <td>Atomy Aqua Cream (80ml) from Korea [LOWEST PRI...</td>\n",
       "      <td></td>\n",
       "      <td>316</td>\n",
       "      <td>5.0</td>\n",
       "    </tr>\n",
       "    <tr>\n",
       "      <th>7</th>\n",
       "      <td>Neutrogena Combination Skin Moist 118ml</td>\n",
       "      <td></td>\n",
       "      <td>528</td>\n",
       "      <td>5.0</td>\n",
       "    </tr>\n",
       "  </tbody>\n",
       "</table>\n",
       "</div>"
      ],
      "text/plain": [
       "                                            ItemName          Brand No. Sold  \\\n",
       "0  SKINTIFIC 5X Ceramide Skin Barrier Repair Mois...      Skintific    68.3k   \n",
       "1  The Originote Day & Night Hyalucera Moisturize...                    2.8k   \n",
       "2  Cetaphil Moisturizing Cream for Dry/Sensitive ...       Cetaphil      440   \n",
       "3  YOU The AcnePlus Series Skin Defense Moisturiz...  Y.O.U Makeups     2.8k   \n",
       "4  SOMEBYMI AHA-BHA-PHA 30 Days Miracle Acne Clea...     Some By Mi    34.7k   \n",
       "5  innisfree jeju cherry blossom jelly cream 20ml...      Innisfree       48   \n",
       "6  Atomy Aqua Cream (80ml) from Korea [LOWEST PRI...                     316   \n",
       "7            Neutrogena Combination Skin Moist 118ml                     528   \n",
       "\n",
       "  Rating  \n",
       "0    5.0  \n",
       "1    4.9  \n",
       "2    4.8  \n",
       "3    4.9  \n",
       "4    5.0  \n",
       "5    4.9  \n",
       "6    5.0  \n",
       "7    5.0  "
      ]
     },
     "execution_count": 125,
     "metadata": {},
     "output_type": "execute_result"
    }
   ],
   "source": [
    "#save into panda data frame\n",
    "b=pd.DataFrame(zip(titles_lis, ingredient_lists,no_sold_list,rating_list), columns=['ItemName', 'Brand', 'No. Sold','Rating'])\n",
    "b"
   ]
  },
  {
   "cell_type": "markdown",
   "metadata": {},
   "source": [
    "# Extrat data from multiple page using Class Name"
   ]
  },
  {
   "cell_type": "code",
   "execution_count": null,
   "metadata": {},
   "outputs": [],
   "source": [
    "titles_lists,prices_list,location_list,number_item_list = [],[],[],[]\n",
    "for page in range (0,2):\n",
    "    \n",
    "    link='https://shopee.com.my/search?keyword=cleanse&page='+ str(page)\n",
    "    driver.get(link)\n",
    "    driver.maximize_window() # use to maximze the window\n",
    "    time.sleep(8) # alloq page to load until below, if nit some data might missing (lazy selenium >_<)\n",
    "    for i in driver.find_elements(by=By.CLASS_NAME, value=\"dpiR4u\"):\n",
    "        titles_lists.append(i.text)\n",
    "    for i in driver.find_elements(by=By.CLASS_NAME, value=\"hpDKMN\"):\n",
    "        prices_list.append(i.text)\n",
    "    for i in driver.find_elements(by=By.CLASS_NAME, value=\"zGGwiV\"):\n",
    "        location_list.append(i.text)\n",
    "    for i in driver.find_elements(by=By.CLASS_NAME, value=\"r6HknA \"):\n",
    "        number_item_list.append(i.text)\n",
    "    "
   ]
  },
  {
   "cell_type": "code",
   "execution_count": null,
   "metadata": {},
   "outputs": [],
   "source": [
    "# safe data into panda dataframe. Can allow us to save in excel file)\n",
    "b=pd.DataFrame(zip(titles_lists, prices_list,location_list,number_item_list), columns=['ItemName', 'Price', 'Location','Item sold'])"
   ]
  },
  {
   "cell_type": "code",
   "execution_count": null,
   "metadata": {},
   "outputs": [],
   "source": [
    "b.head(61)"
   ]
  },
  {
   "cell_type": "code",
   "execution_count": null,
   "metadata": {},
   "outputs": [],
   "source": [
    "a.to_csv('file_name.csv')"
   ]
  },
  {
   "cell_type": "markdown",
   "metadata": {},
   "source": [
    "# Scrape data from 1 page using Class Name"
   ]
  },
  {
   "cell_type": "code",
   "execution_count": null,
   "metadata": {},
   "outputs": [],
   "source": [
    "#driver = wb.Chrome('C:/Users/ASUS/Downloads/New folder (3)/chromedriver_win32/chromedriver.exe')\n",
    "driver.get('https://shopee.com.my/search?keyword=moisturize&page=0')"
   ]
  },
  {
   "cell_type": "code",
   "execution_count": null,
   "metadata": {},
   "outputs": [],
   "source": [
    "productInfoList = driver.find_elements(by=By.CLASS_NAME, value=\"flex items-center HiGScj\") \n",
    "len(productInfoList)"
   ]
  },
  {
   "cell_type": "code",
   "execution_count": null,
   "metadata": {},
   "outputs": [],
   "source": [
    "productInfoList = driver.find_elements(by=By.CLASS_NAME, value=\"dpiR4u\")\n",
    "len(productInfoList)"
   ]
  },
  {
   "cell_type": "code",
   "execution_count": null,
   "metadata": {},
   "outputs": [],
   "source": [
    "titles_lists=[]\n",
    "for i in driver.find_elements(by=By.CLASS_NAME, value=\"dpiR4u\"):\n",
    "        titles_lists.append(i.text)"
   ]
  },
  {
   "cell_type": "code",
   "execution_count": null,
   "metadata": {},
   "outputs": [],
   "source": [
    "titles_lists"
   ]
  },
  {
   "cell_type": "code",
   "execution_count": null,
   "metadata": {},
   "outputs": [],
   "source": [
    "item_title = wbD.find_elements(by=By.CLASS_NAME, value=\"dpiR4u\")\n",
    "item_prices = wbD.find_elements(by=By.CLASS_NAME, value=\"hpDKMN\")\n",
    "location_sold = wbD.find_elements(by=By.CLASS_NAME, value=\"zGGwiV\")\n",
    "item_number_of_sold = wbD.find_elements(by=By.CLASS_NAME, value=\"r6HknA \")"
   ]
  },
  {
   "cell_type": "code",
   "execution_count": null,
   "metadata": {},
   "outputs": [],
   "source": [
    "item_title"
   ]
  },
  {
   "cell_type": "code",
   "execution_count": null,
   "metadata": {},
   "outputs": [],
   "source": [
    "# Initialize empty lists\n",
    "titles_list = []\n",
    "prices_list = []\n",
    "location_list =[]\n",
    "number_item_list=[]\n",
    "# Loop over the item_titles and item_prices\n",
    "for title in item_title:\n",
    "    titles_list.append(title.text)\n",
    "for price in item_prices:\n",
    "    prices_list.append(price.text)\n",
    "for location in location_sold:\n",
    "    location_list.append(location.text)\n",
    "for item_sold in item_number_of_sold:\n",
    "    number_item_list.append(item_sold.text)\n"
   ]
  },
  {
   "cell_type": "code",
   "execution_count": null,
   "metadata": {},
   "outputs": [],
   "source": [
    "len(titles_list) # to check the length of list"
   ]
  },
  {
   "cell_type": "code",
   "execution_count": null,
   "metadata": {},
   "outputs": [],
   "source": [
    "pd.DataFrame(zip(titles_lists), columns=['ItemName']) # save into panda dataframe"
   ]
  },
  {
   "cell_type": "code",
   "execution_count": null,
   "metadata": {},
   "outputs": [],
   "source": [
    "pd.DataFrame(zip(titles_lists, prices_list,location_list,number_item_list), columns=['ItemName', 'Price', 'Location','Item sold'])"
   ]
  },
  {
   "cell_type": "code",
   "execution_count": null,
   "metadata": {},
   "outputs": [],
   "source": [
    "a.to_csv('file_name.csv')"
   ]
  },
  {
   "cell_type": "code",
   "execution_count": 1,
   "metadata": {},
   "outputs": [
    {
     "name": "stdout",
     "output_type": "stream",
     "text": [
      "Requirement already satisfied: nbconvert in c:\\users\\userr\\anaconda3\\lib\\site-packages (6.4.4)\n",
      "Requirement already satisfied: pygments>=2.4.1 in c:\\users\\userr\\anaconda3\\lib\\site-packages (from nbconvert) (2.11.2)\n",
      "Requirement already satisfied: bleach in c:\\users\\userr\\anaconda3\\lib\\site-packages (from nbconvert) (4.1.0)\n",
      "Requirement already satisfied: nbformat>=4.4 in c:\\users\\userr\\anaconda3\\lib\\site-packages (from nbconvert) (5.5.0)\n",
      "Requirement already satisfied: jupyter-core in c:\\users\\userr\\anaconda3\\lib\\site-packages (from nbconvert) (4.11.1)\n",
      "Requirement already satisfied: entrypoints>=0.2.2 in c:\\users\\userr\\anaconda3\\lib\\site-packages (from nbconvert) (0.4)\n",
      "Requirement already satisfied: pandocfilters>=1.4.1 in c:\\users\\userr\\anaconda3\\lib\\site-packages (from nbconvert) (1.5.0)\n",
      "Requirement already satisfied: testpath in c:\\users\\userr\\anaconda3\\lib\\site-packages (from nbconvert) (0.6.0)\n",
      "Requirement already satisfied: defusedxml in c:\\users\\userr\\anaconda3\\lib\\site-packages (from nbconvert) (0.7.1)\n",
      "Requirement already satisfied: beautifulsoup4 in c:\\users\\userr\\anaconda3\\lib\\site-packages (from nbconvert) (4.11.1)\n",
      "Requirement already satisfied: jinja2>=2.4 in c:\\users\\userr\\anaconda3\\lib\\site-packages (from nbconvert) (2.11.3)\n",
      "Requirement already satisfied: nbclient<0.6.0,>=0.5.0 in c:\\users\\userr\\anaconda3\\lib\\site-packages (from nbconvert) (0.5.13)\n",
      "Requirement already satisfied: jupyterlab-pygments in c:\\users\\userr\\anaconda3\\lib\\site-packages (from nbconvert) (0.1.2)\n",
      "Requirement already satisfied: traitlets>=5.0 in c:\\users\\userr\\anaconda3\\lib\\site-packages (from nbconvert) (5.1.1)\n",
      "Requirement already satisfied: mistune<2,>=0.8.1 in c:\\users\\userr\\anaconda3\\lib\\site-packages (from nbconvert) (0.8.4)\n",
      "Requirement already satisfied: MarkupSafe>=0.23 in c:\\users\\userr\\anaconda3\\lib\\site-packages (from jinja2>=2.4->nbconvert) (2.0.1)\n",
      "Requirement already satisfied: nest-asyncio in c:\\users\\userr\\anaconda3\\lib\\site-packages (from nbclient<0.6.0,>=0.5.0->nbconvert) (1.5.5)\n",
      "Requirement already satisfied: jupyter-client>=6.1.5 in c:\\users\\userr\\anaconda3\\lib\\site-packages (from nbclient<0.6.0,>=0.5.0->nbconvert) (7.3.4)\n",
      "Requirement already satisfied: jsonschema>=2.6 in c:\\users\\userr\\anaconda3\\lib\\site-packages (from nbformat>=4.4->nbconvert) (4.16.0)\n",
      "Requirement already satisfied: fastjsonschema in c:\\users\\userr\\anaconda3\\lib\\site-packages (from nbformat>=4.4->nbconvert) (2.16.2)\n",
      "Requirement already satisfied: soupsieve>1.2 in c:\\users\\userr\\anaconda3\\lib\\site-packages (from beautifulsoup4->nbconvert) (2.3.1)\n",
      "Requirement already satisfied: packaging in c:\\users\\userr\\anaconda3\\lib\\site-packages (from bleach->nbconvert) (21.3)\n",
      "Requirement already satisfied: six>=1.9.0 in c:\\users\\userr\\anaconda3\\lib\\site-packages (from bleach->nbconvert) (1.16.0)\n",
      "Requirement already satisfied: webencodings in c:\\users\\userr\\anaconda3\\lib\\site-packages (from bleach->nbconvert) (0.5.1)\n",
      "Requirement already satisfied: pywin32>=1.0 in c:\\users\\userr\\anaconda3\\lib\\site-packages (from jupyter-core->nbconvert) (302)\n",
      "Requirement already satisfied: attrs>=17.4.0 in c:\\users\\userr\\anaconda3\\lib\\site-packages (from jsonschema>=2.6->nbformat>=4.4->nbconvert) (21.4.0)\n",
      "Requirement already satisfied: pyrsistent!=0.17.0,!=0.17.1,!=0.17.2,>=0.14.0 in c:\\users\\userr\\anaconda3\\lib\\site-packages (from jsonschema>=2.6->nbformat>=4.4->nbconvert) (0.18.0)\n",
      "Requirement already satisfied: python-dateutil>=2.8.2 in c:\\users\\userr\\anaconda3\\lib\\site-packages (from jupyter-client>=6.1.5->nbclient<0.6.0,>=0.5.0->nbconvert) (2.8.2)\n",
      "Requirement already satisfied: tornado>=6.0 in c:\\users\\userr\\anaconda3\\lib\\site-packages (from jupyter-client>=6.1.5->nbclient<0.6.0,>=0.5.0->nbconvert) (6.1)\n",
      "Requirement already satisfied: pyzmq>=23.0 in c:\\users\\userr\\anaconda3\\lib\\site-packages (from jupyter-client>=6.1.5->nbclient<0.6.0,>=0.5.0->nbconvert) (23.2.0)\n",
      "Requirement already satisfied: pyparsing!=3.0.5,>=2.0.2 in c:\\users\\userr\\anaconda3\\lib\\site-packages (from packaging->bleach->nbconvert) (3.0.9)\n",
      "Note: you may need to restart the kernel to use updated packages.\n"
     ]
    }
   ],
   "source": [
    "pip install nbconvert"
   ]
  },
  {
   "cell_type": "code",
   "execution_count": null,
   "metadata": {},
   "outputs": [],
   "source": [
    "pip uninstall pyppeteer"
   ]
  },
  {
   "cell_type": "code",
   "execution_count": null,
   "metadata": {},
   "outputs": [],
   "source": []
  }
 ],
 "metadata": {
  "kernelspec": {
   "display_name": "Python 3 (ipykernel)",
   "language": "python",
   "name": "python3"
  },
  "language_info": {
   "codemirror_mode": {
    "name": "ipython",
    "version": 3
   },
   "file_extension": ".py",
   "mimetype": "text/x-python",
   "name": "python",
   "nbconvert_exporter": "python",
   "pygments_lexer": "ipython3",
   "version": "3.9.13"
  }
 },
 "nbformat": 4,
 "nbformat_minor": 4
}
